{
 "cells": [
  {
   "cell_type": "code",
   "execution_count": null,
   "metadata": {},
   "outputs": [],
   "source": [
    "import random\n",
    "computer = randint(0,2)\n",
    "\n",
    "#a máquina sorteia um número aleatório e armazena isso na variável 'computer'.\n",
    "#Mostro as opções de escolha para o usuário.\n",
    "print('Pedra Papel e Tesoura game¨&¨&¨')\n",
    "print('opções:')\n",
    "print('0->pedra')\n",
    "print('1->papel')\n",
    "print('2->tesoura')\n",
    "\n",
    "jogador = int(input('Escolha um valor:')) #o usuário escolhe e eu armazeno isso na variável 'jogador'.\n",
    "\n",
    "print('JO')\n",
    "print('KEN')\n",
    "print('PÔ!!')\n",
    "\n",
    "if (jogador == computer):\n",
    "    print('Empate!')\n",
    "else:\n",
    "    if((jogador == 0 and computer == 1) or (jogador == 1 and computer == 2) or (jogador == 2 and computer == 0 )):\n",
    "        print('o computador ganhou essa, ein. Vc perdeu!')\n",
    "    else:\n",
    "        print('Vc ganhou!')\n",
    "                     \n",
    "x = 'pedra'\n",
    "y = 'papel'\n",
    "z = 'tesoura'\n",
    "if (computer == 0):\n",
    "    computer = x\n",
    "else:\n",
    "    if (computer == 1):\n",
    "        computer = y\n",
    "        jogador = y\n",
    "    if (computer == 2):\n",
    "        computer = z\n",
    "if (jogador == 0):\n",
    "            jogador = x\n",
    "else:\n",
    "        if (jogador == 1):\n",
    "            jogador = y\n",
    "        if (jogador == 2):\n",
    "            jogador = z\n",
    "\n",
    "\n",
    "print('Vc escolheu', jogador)\n",
    "print('A máquina escolheu', computer)"
   ]
  }
 ],
 "metadata": {
  "kernelspec": {
   "display_name": "Python 3",
   "language": "python",
   "name": "python3"
  },
  "language_info": {
   "name": "python",
   "version": "3.11.9"
  }
 },
 "nbformat": 4,
 "nbformat_minor": 2
}
